{
 "cells": [
  {
   "cell_type": "markdown",
   "id": "5fc3abbb-3a5b-4841-9a1f-7628e711d67f",
   "metadata": {},
   "source": [
    "# Test 5 channels (bf, dna, structure, cellseg, dnaseg)"
   ]
  },
  {
   "cell_type": "markdown",
   "id": "2aed0a49-6a1a-4b17-85aa-3f5ee69efb68",
   "metadata": {},
   "source": [
    "## Load package and data"
   ]
  },
  {
   "cell_type": "code",
   "execution_count": 1,
   "id": "70afd1c7-060e-45b6-a36e-eac6f9b8649e",
   "metadata": {},
   "outputs": [
    {
     "name": "stderr",
     "output_type": "stream",
     "text": [
      "19-Oct-22 21:16:55 - bfio.backends - WARNING  - Java backend is not available. This could be due to a missing dependency (jpype).\n"
     ]
    }
   ],
   "source": [
    "from upath import UPath as Path\n",
    "import pandas as pd\n",
    "import numpy as np\n",
    "import matplotlib.pyplot as plt\n",
    "import seaborn as sns\n",
    "import nbvv\n",
    "\n",
    "from serotiny.io.image import image_loader\n",
    "from cytodata_aics.io_utils import rescale_image"
   ]
  },
  {
   "cell_type": "markdown",
   "id": "886d5451-4b36-4410-ab1b-8e28a73ebde0",
   "metadata": {},
   "source": [
    "## Model"
   ]
  },
  {
   "cell_type": "code",
   "execution_count": 2,
   "id": "57f6d34a-5300-4d23-9ae0-64a5049c58cd",
   "metadata": {},
   "outputs": [
    {
     "name": "stdout",
     "output_type": "stream",
     "text": [
      "Number of cells: 8179\n",
      "Number of columns: 79\n"
     ]
    }
   ],
   "source": [
    "from serotiny.transforms.dataframe.transforms import split_dataframe\n",
    "data_dir = \"/home/aicsuser/cytodata-hackathon-base/data\"\n",
    "\n",
    "df = pd.read_csv(f\"{data_dir}/mitocells.csv\")\n",
    "print(f'Number of cells: {len(df)}')\n",
    "print(f'Number of columns: {len(df.columns)}')"
   ]
  },
  {
   "cell_type": "code",
   "execution_count": 3,
   "id": "4107bf58-04f0-4eac-84e3-9a37e2f09bc2",
   "metadata": {},
   "outputs": [
    {
     "data": {
      "text/plain": [
       "M0               2000\n",
       "M1M2             2000\n",
       "M4M5             2000\n",
       "M6M7_complete    1198\n",
       "M3                981\n",
       "Name: cell_stage, dtype: int64"
      ]
     },
     "execution_count": 3,
     "metadata": {},
     "output_type": "execute_result"
    }
   ],
   "source": [
    "df[\"cell_stage\"].value_counts()"
   ]
  },
  {
   "cell_type": "code",
   "execution_count": 4,
   "id": "d6431cd1-cc64-41e4-9b66-c7e515752184",
   "metadata": {},
   "outputs": [],
   "source": [
    "import os\n",
    "os.chdir(\"/home/aicsuser/cytodata-hackathon-base\")"
   ]
  },
  {
   "cell_type": "code",
   "execution_count": 5,
   "id": "5e56df43-8a41-4272-82ee-a414aa6a2557",
   "metadata": {},
   "outputs": [],
   "source": [
    "from datetime import datetime\n",
    "\n",
    "# util to avoid referring to the same run unintentionally\n",
    "now_str = lambda : datetime.now().strftime(\"%Y%m%d_%H%M%S\")"
   ]
  },
  {
   "cell_type": "markdown",
   "id": "1569c9c2-a6e2-4fa4-b4da-697e8dcea280",
   "metadata": {},
   "source": [
    "# Load and train"
   ]
  },
  {
   "cell_type": "code",
   "execution_count": 15,
   "id": "e92b578d-cfe4-449c-9422-e995ce4ca5dd",
   "metadata": {},
   "outputs": [
    {
     "name": "stdout",
     "output_type": "stream",
     "text": [
      "teamx_bfdnastruct_dnaSeg_structSeg_vae_zproj_20221019_222820\n",
      "[2022-10-19 22:28:24,222][pytorch_lightning.utilities.seed][INFO] - Global seed set to 42\n",
      "[2022-10-19 22:28:24,223][serotiny.ml_ops.ml_ops][INFO] - Instantiating datamodule\n",
      "[2022-10-19 22:28:26,674][serotiny.ml_ops.ml_ops][INFO] - Instantiating trainer\n",
      "[2022-10-19 22:28:26,727][pytorch_lightning.utilities.rank_zero][INFO] - GPU available: True, used: True\n",
      "[2022-10-19 22:28:26,727][pytorch_lightning.utilities.rank_zero][INFO] - TPU available: False, using: 0 TPU cores\n",
      "[2022-10-19 22:28:26,727][pytorch_lightning.utilities.rank_zero][INFO] - IPU available: False, using: 0 IPUs\n",
      "[2022-10-19 22:28:26,727][pytorch_lightning.utilities.rank_zero][INFO] - HPU available: False, using: 0 HPUs\n",
      "[2022-10-19 22:28:26,728][serotiny.ml_ops.ml_ops][INFO] - Instantiating model\n",
      "[2022-10-19 22:28:26,758][serotiny.networks.basic_cnn.basic_cnn][INFO] - Determined 'compressed size': 41496 for CNN\n",
      "[2022-10-19 22:28:27,719][serotiny.networks.basic_cnn.basic_cnn][INFO] - Determined 'compressed size': 534072 for CNN\n",
      "[2022-10-19 22:28:27,886][torch.distributed.nn.jit.instantiator][INFO] - Created a temporary directory at /tmp/tmpqu9rn1sp\n",
      "[2022-10-19 22:28:27,886][torch.distributed.nn.jit.instantiator][INFO] - Writing /tmp/tmpqu9rn1sp/_remote_module_non_scriptable.py\n",
      "[2022-10-19 22:28:27,904][serotiny.ml_ops.mlflow_utils][INFO] - Validating and processing MLFlow configuration\n",
      "/opt/conda/lib/python3.10/site-packages/serotiny/ml_ops/mlflow_utils.py:156: FutureWarning: ``mlflow.tracking.fluent.list_run_infos`` is deprecated. This method will be removed in a future release. Use ``search_runs()`` instead.\n",
      "  for run_info in mlflow.list_run_infos(experiment_id=experiment_id):\n",
      "/opt/conda/lib/python3.10/site-packages/mlflow/tracking/fluent.py:1599: FutureWarning: ``mlflow.tracking.client.MlflowClient.list_run_infos`` is deprecated. This method will be removed in a future release. Use ``search_runs()`` instead.\n",
      "  return MlflowClient().list_run_infos(\n",
      "[2022-10-19 22:28:28,593][serotiny.ml_ops.mlflow_utils][INFO] - Calling trainer.fit\n",
      "[2022-10-19 22:28:31,165][pytorch_lightning.accelerators.gpu][INFO] - LOCAL_RANK: 0 - CUDA_VISIBLE_DEVICES: [0]\n",
      "[2022-10-19 22:28:31,167][pytorch_lightning.callbacks.model_summary][INFO] - \n",
      "  | Name    | Type       | Params\n",
      "---------------------------------------\n",
      "0 | encoder | ModuleDict | 42.5 M\n",
      "1 | decoder | ModuleDict | 21.3 M\n",
      "2 | prior   | ModuleDict | 0     \n",
      "---------------------------------------\n",
      "63.8 M    Trainable params\n",
      "0         Non-trainable params\n",
      "63.8 M    Total params\n",
      "255.123   Total estimated model params size (MB)\n",
      "Epoch 0:  78%|█████████████▉    | 90/116 [06:25<01:51,  4.28s/it, loss=4.37e+05]\n",
      "Validation: 0it [00:00, ?it/s]\u001b[A\n",
      "Validation:   0%|                                        | 0/26 [00:00<?, ?it/s]\u001b[A\n",
      "Validation DataLoader 0:   0%|                           | 0/26 [00:00<?, ?it/s]\u001b[A\n",
      "Epoch 0:  78%|██████████████    | 91/116 [06:48<01:52,  4.49s/it, loss=4.37e+05]\u001b[A\n",
      "Validation DataLoader 0:   8%|█▍                 | 2/26 [00:01<00:20,  1.19it/s]\u001b[A\n",
      "Epoch 0:  79%|██████████████▎   | 92/116 [06:50<01:47,  4.46s/it, loss=4.37e+05]\u001b[A\n",
      "Validation DataLoader 0:  12%|██▏                | 3/26 [00:05<00:43,  1.90s/it]\u001b[A\n",
      "Epoch 0:  80%|██████████████▍   | 93/116 [06:53<01:42,  4.45s/it, loss=4.37e+05]\u001b[A\n",
      "Epoch 0:  81%|██████████████▌   | 94/116 [06:53<01:36,  4.40s/it, loss=4.37e+05]\u001b[A\n",
      "Validation DataLoader 0:  19%|███▋               | 5/26 [00:05<00:18,  1.11it/s]\u001b[A\n",
      "Epoch 0:  82%|██████████████▋   | 95/116 [06:53<01:31,  4.36s/it, loss=4.37e+05]\u001b[A\n",
      "Epoch 0:  83%|██████████████▉   | 96/116 [07:05<01:28,  4.43s/it, loss=4.37e+05]\u001b[A\n",
      "Validation DataLoader 0:  27%|█████              | 7/26 [00:22<01:22,  4.35s/it]\u001b[A\n",
      "Epoch 0:  84%|███████████████   | 97/116 [07:11<01:24,  4.45s/it, loss=4.37e+05]\u001b[A\n",
      "Validation DataLoader 0:  31%|█████▊             | 8/26 [00:24<01:06,  3.70s/it]\u001b[A\n",
      "Epoch 0:  84%|███████████████▏  | 98/116 [07:12<01:19,  4.42s/it, loss=4.37e+05]\u001b[A\n",
      "Validation DataLoader 0:  35%|██████▌            | 9/26 [00:32<01:23,  4.93s/it]\u001b[A\n",
      "Epoch 0:  85%|███████████████▎  | 99/116 [07:21<01:15,  4.46s/it, loss=4.37e+05]\u001b[A\n",
      "Epoch 0:  86%|██████████████▋  | 100/116 [07:21<01:10,  4.42s/it, loss=4.37e+05]\u001b[A\n",
      "Validation DataLoader 0:  42%|███████▌          | 11/26 [00:33<00:43,  2.88s/it]\u001b[A\n",
      "Epoch 0:  87%|██████████████▊  | 101/116 [07:21<01:05,  4.37s/it, loss=4.37e+05]\u001b[A\n",
      "Epoch 0:  88%|██████████████▉  | 102/116 [07:21<01:00,  4.33s/it, loss=4.37e+05]\u001b[A\n",
      "Validation DataLoader 0:  50%|█████████         | 13/26 [00:45<00:53,  4.15s/it]\u001b[A\n",
      "Epoch 0:  89%|███████████████  | 103/116 [07:34<00:57,  4.41s/it, loss=4.37e+05]\u001b[A\n",
      "Validation DataLoader 0:  54%|█████████▋        | 14/26 [00:45<00:39,  3.33s/it]\u001b[A\n",
      "Epoch 0:  90%|███████████████▏ | 104/116 [07:34<00:52,  4.37s/it, loss=4.37e+05]\u001b[A\n",
      "Validation DataLoader 0:  58%|██████████▍       | 15/26 [00:57<00:58,  5.36s/it]\u001b[A\n",
      "Epoch 0:  91%|███████████████▍ | 105/116 [07:46<00:48,  4.44s/it, loss=4.37e+05]\u001b[A\n",
      "Epoch 0:  91%|███████████████▌ | 106/116 [07:46<00:44,  4.40s/it, loss=4.37e+05]\u001b[A\n",
      "Validation DataLoader 0:  65%|███████████▊      | 17/26 [00:58<00:29,  3.25s/it]\u001b[A\n",
      "Epoch 0:  92%|███████████████▋ | 107/116 [07:46<00:39,  4.36s/it, loss=4.37e+05]\u001b[A\n",
      "Epoch 0:  93%|███████████████▊ | 108/116 [07:46<00:34,  4.32s/it, loss=4.37e+05]\u001b[A\n",
      "Validation DataLoader 0:  73%|█████████████▏    | 19/26 [01:09<00:29,  4.19s/it]\u001b[A\n",
      "Epoch 0:  94%|███████████████▉ | 109/116 [07:58<00:30,  4.39s/it, loss=4.37e+05]\u001b[A\n",
      "Validation DataLoader 0:  77%|█████████████▊    | 20/26 [01:10<00:21,  3.54s/it]\u001b[A\n",
      "Epoch 0:  95%|████████████████ | 110/116 [07:59<00:26,  4.36s/it, loss=4.37e+05]\u001b[A\n",
      "Validation DataLoader 0:  81%|██████████████▌   | 21/26 [01:24<00:28,  5.80s/it]\u001b[A\n",
      "Epoch 0:  96%|████████████████▎| 111/116 [08:12<00:22,  4.44s/it, loss=4.37e+05]\u001b[A\n",
      "Epoch 0:  97%|████████████████▍| 112/116 [08:12<00:17,  4.40s/it, loss=4.37e+05]\u001b[A\n",
      "Validation DataLoader 0:  88%|███████████████▉  | 23/26 [01:24<00:10,  3.54s/it]\u001b[A\n",
      "Epoch 0:  97%|████████████████▌| 113/116 [08:12<00:13,  4.36s/it, loss=4.37e+05]\u001b[A\n",
      "Epoch 0:  98%|████████████████▋| 114/116 [08:13<00:08,  4.32s/it, loss=4.37e+05]\u001b[A\n",
      "Validation DataLoader 0:  96%|█████████████████▎| 25/26 [01:34<00:04,  4.00s/it]\u001b[A\n",
      "Epoch 0:  99%|████████████████▊| 115/116 [08:22<00:04,  4.37s/it, loss=4.37e+05]\u001b[A\n",
      "Validation DataLoader 0: 100%|██████████████████| 26/26 [01:34<00:00,  3.21s/it]\u001b[A\n",
      "Epoch 0: 100%|█████████████████| 116/116 [08:22<00:00,  4.33s/it, loss=4.37e+05]\u001b[A\n",
      "Epoch 1:  78%|█████████████▉    | 90/116 [05:59<01:43,  3.99s/it, loss=2.26e+05]\u001b[A\n",
      "Validation: 0it [00:00, ?it/s]\u001b[A\n",
      "Validation:   0%|                                        | 0/26 [00:00<?, ?it/s]\u001b[A\n",
      "Validation DataLoader 0:   0%|                           | 0/26 [00:00<?, ?it/s]\u001b[A\n",
      "Epoch 1:  78%|██████████████    | 91/116 [06:25<01:46,  4.24s/it, loss=2.26e+05]\u001b[A\n",
      "Epoch 1:  79%|██████████████▎   | 92/116 [06:25<01:40,  4.19s/it, loss=2.26e+05]\u001b[A\n",
      "Validation DataLoader 0:  12%|██▏                | 3/26 [00:00<00:01, 21.54it/s]\u001b[A\n",
      "Epoch 1:  80%|██████████████▍   | 93/116 [06:25<01:35,  4.15s/it, loss=2.26e+05]\u001b[A\n",
      "Epoch 1:  81%|██████████████▌   | 94/116 [06:26<01:30,  4.11s/it, loss=2.26e+05]\u001b[A\n",
      "Epoch 1:  82%|██████████████▋   | 95/116 [06:26<01:25,  4.06s/it, loss=2.26e+05]\u001b[A\n",
      "Validation DataLoader 0:  23%|████▍              | 6/26 [00:00<00:01, 18.16it/s]\u001b[A\n",
      "Epoch 1:  83%|██████████████▉   | 96/116 [06:44<01:24,  4.21s/it, loss=2.26e+05]\u001b[A\n",
      "Validation DataLoader 0:  23%|████▍              | 6/26 [00:18<00:01, 18.16it/s]\u001b[A\n",
      "Validation DataLoader 0:  27%|█████              | 7/26 [00:21<01:28,  4.67s/it]\u001b[A\n",
      "Epoch 1:  84%|███████████████   | 97/116 [06:47<01:19,  4.20s/it, loss=2.26e+05]\u001b[A\n",
      "Epoch 1:  84%|███████████████▏  | 98/116 [06:47<01:14,  4.16s/it, loss=2.26e+05]\u001b[A\n",
      "Validation DataLoader 0:  35%|██████▌            | 9/26 [00:22<00:52,  3.11s/it]\u001b[A\n",
      "Epoch 1:  85%|███████████████▎  | 99/116 [06:48<01:10,  4.13s/it, loss=2.26e+05]\u001b[A\n",
      "Epoch 1:  86%|██████████████▋  | 100/116 [06:48<01:05,  4.09s/it, loss=2.26e+05]\u001b[A\n",
      "Validation DataLoader 0:  42%|███████▌          | 11/26 [00:22<00:30,  2.03s/it]\u001b[A\n",
      "Epoch 1:  87%|██████████████▊  | 101/116 [06:48<01:00,  4.05s/it, loss=2.26e+05]\u001b[A\n",
      "Epoch 1:  88%|██████████████▉  | 102/116 [07:04<00:58,  4.16s/it, loss=2.26e+05]\u001b[A\n",
      "Validation DataLoader 0:  46%|████████▎         | 12/26 [00:38<00:28,  2.03s/it]\u001b[A\n",
      "Validation DataLoader 0:  50%|█████████         | 13/26 [00:42<01:00,  4.69s/it]\u001b[A\n",
      "Epoch 1:  89%|███████████████  | 103/116 [07:08<00:54,  4.16s/it, loss=2.26e+05]\u001b[A\n",
      "Epoch 1:  90%|███████████████▏ | 104/116 [07:08<00:49,  4.12s/it, loss=2.26e+05]\u001b[A\n",
      "Validation DataLoader 0:  58%|██████████▍       | 15/26 [00:45<00:39,  3.55s/it]\u001b[A\n",
      "Epoch 1:  91%|███████████████▍ | 105/116 [07:10<00:45,  4.10s/it, loss=2.26e+05]\u001b[A\n",
      "Epoch 1:  91%|███████████████▌ | 106/116 [07:10<00:40,  4.07s/it, loss=2.26e+05]\u001b[A\n",
      "Validation DataLoader 0:  65%|███████████▊      | 17/26 [00:45<00:22,  2.45s/it]\u001b[A\n",
      "Epoch 1:  92%|███████████████▋ | 107/116 [07:11<00:36,  4.03s/it, loss=2.26e+05]\u001b[A\n",
      "Epoch 1:  93%|███████████████▊ | 108/116 [07:24<00:32,  4.11s/it, loss=2.26e+05]\u001b[A\n",
      "Validation DataLoader 0:  69%|████████████▍     | 18/26 [00:58<00:19,  2.45s/it]\u001b[A\n",
      "Validation DataLoader 0:  73%|█████████████▏    | 19/26 [01:06<00:34,  4.94s/it]\u001b[A\n",
      "Epoch 1:  94%|███████████████▉ | 109/116 [07:31<00:29,  4.15s/it, loss=2.26e+05]\u001b[A\n",
      "Validation DataLoader 0:  77%|█████████████▊    | 20/26 [01:07<00:25,  4.33s/it]\u001b[A\n",
      "Epoch 1:  95%|████████████████ | 110/116 [07:33<00:24,  4.12s/it, loss=2.26e+05]\u001b[A\n",
      "Validation DataLoader 0:  81%|██████████████▌   | 21/26 [01:10<00:19,  3.97s/it]\u001b[A\n",
      "Epoch 1:  96%|████████████████▎| 111/116 [07:36<00:20,  4.11s/it, loss=2.26e+05]\u001b[A\n",
      "Epoch 1:  97%|████████████████▍| 112/116 [07:36<00:16,  4.07s/it, loss=2.26e+05]\u001b[A\n",
      "Validation DataLoader 0:  88%|███████████████▉  | 23/26 [01:10<00:07,  2.52s/it]\u001b[A\n",
      "Epoch 1:  97%|████████████████▌| 113/116 [07:36<00:12,  4.04s/it, loss=2.26e+05]\u001b[A\n",
      "Epoch 1:  98%|████████████████▋| 114/116 [07:54<00:08,  4.16s/it, loss=2.26e+05]\u001b[A\n",
      "Validation DataLoader 0:  96%|█████████████████▎| 25/26 [01:32<00:05,  5.39s/it]\u001b[A\n",
      "Epoch 1:  99%|████████████████▊| 115/116 [07:57<00:04,  4.16s/it, loss=2.26e+05]\u001b[A\n",
      "Epoch 1: 100%|█████████████████| 116/116 [07:57<00:00,  4.12s/it, loss=2.26e+05]\u001b[A\n",
      "Epoch 1: 100%|█████████████████| 116/116 [08:17<00:00,  4.28s/it, loss=2.26e+05]\u001b[A\n",
      "2022/10/19 22:45:57 WARNING mlflow.utils.requirements_utils: Found torch version (1.12.1+cu113) contains a local version label (+cu113). MLflow logged a pip requirement for this package as 'torch==1.12.1' without the local version label to make it installable from PyPI. To specify pip requirements containing local version labels, please use `conda_env` or `pip_requirements`.\n",
      "2022/10/19 22:46:08 WARNING mlflow.utils.requirements_utils: Found torchvision version (0.13.1+cu113) contains a local version label (+cu113). MLflow logged a pip requirement for this package as 'torchvision==0.13.1' without the local version label to make it installable from PyPI. To specify pip requirements containing local version labels, please use `conda_env` or `pip_requirements`.\n",
      "2022/10/19 22:46:08 WARNING mlflow.utils.autologging_utils: MLflow autologging encountered a warning: \"/opt/conda/lib/python3.10/site-packages/_distutils_hack/__init__.py:33: UserWarning: Setuptools is replacing distutils.\"\n"
     ]
    }
   ],
   "source": [
    "run_name = f\"teamx_bfdnastruct_dnaSeg_structSeg_vae_zproj_{now_str()}\"\n",
    "print(run_name)\n",
    "\n",
    "!serotiny train \\\n",
    "    model=jan_fivechannel_vae_2d\\\n",
    "    data=jan_fivechannel_vae_dataloader_2d \\\n",
    "    mlflow.experiment_name=vae \\\n",
    "    mlflow.run_name={run_name} \\\n",
    "    trainer.gpus=[0] \\\n",
    "    trainer.max_epochs=2\n",
    "\n",
    "# ++make_notebook=demo.ipynb"
   ]
  },
  {
   "cell_type": "code",
   "execution_count": 9,
   "id": "bfdc4b7f-d3af-47b5-8a25-da0e7b642fdd",
   "metadata": {},
   "outputs": [
    {
     "name": "stdout",
     "output_type": "stream",
     "text": [
      "[2022-10-19 21:04:05,576][pytorch_lightning.utilities.seed][INFO] - Global seed set to 42\n",
      "[2022-10-19 21:04:05,577][serotiny.ml_ops.ml_ops][INFO] - Instantiating datamodule\n",
      "[2022-10-19 21:04:07,812][serotiny.ml_ops.ml_ops][INFO] - Instantiating trainer\n",
      "/opt/conda/lib/python3.10/site-packages/pytorch_lightning/loops/utilities.py:91: PossibleUserWarning: `max_epochs` was not set. Setting it to 1000 epochs. To train without an epoch limit, set `max_epochs=-1`.\n",
      "  rank_zero_warn(\n",
      "[2022-10-19 21:04:08,119][pytorch_lightning.utilities.rank_zero][INFO] - GPU available: True, used: False\n",
      "[2022-10-19 21:04:08,120][pytorch_lightning.utilities.rank_zero][INFO] - TPU available: False, using: 0 TPU cores\n",
      "[2022-10-19 21:04:08,120][pytorch_lightning.utilities.rank_zero][INFO] - IPU available: False, using: 0 IPUs\n",
      "[2022-10-19 21:04:08,120][pytorch_lightning.utilities.rank_zero][INFO] - HPU available: False, using: 0 HPUs\n",
      "/opt/conda/lib/python3.10/site-packages/pytorch_lightning/trainer/trainer.py:1812: PossibleUserWarning: GPU available but not used. Set `accelerator` and `devices` using `Trainer(accelerator='gpu', devices=1)`.\n",
      "  rank_zero_warn(\n",
      "[2022-10-19 21:04:08,121][serotiny.ml_ops.ml_ops][INFO] - Instantiating model\n",
      "/opt/conda/lib/python3.10/site-packages/torch/nn/modules/lazy.py:178: UserWarning: Lazy modules are a new feature under heavy development so changes to the API or functionality can happen at any moment.\n",
      "  warnings.warn('Lazy modules are a new feature under heavy development '\n",
      "[2022-10-19 21:04:08,170][torch.distributed.nn.jit.instantiator][INFO] - Created a temporary directory at /tmp/tmpasfwravb\n",
      "[2022-10-19 21:04:08,170][torch.distributed.nn.jit.instantiator][INFO] - Writing /tmp/tmpasfwravb/_remote_module_non_scriptable.py\n",
      "[2022-10-19 21:04:08,186][serotiny.ml_ops.mlflow_utils][INFO] - Validating and processing MLFlow configuration\n",
      "/opt/conda/lib/python3.10/site-packages/serotiny/ml_ops/mlflow_utils.py:156: FutureWarning: ``mlflow.tracking.fluent.list_run_infos`` is deprecated. This method will be removed in a future release. Use ``search_runs()`` instead.\n",
      "  for run_info in mlflow.list_run_infos(experiment_id=experiment_id):\n",
      "/opt/conda/lib/python3.10/site-packages/mlflow/tracking/fluent.py:1599: FutureWarning: ``mlflow.tracking.client.MlflowClient.list_run_infos`` is deprecated. This method will be removed in a future release. Use ``search_runs()`` instead.\n",
      "  return MlflowClient().list_run_infos(\n",
      "[2022-10-19 21:05:09,564][serotiny.ml_ops.mlflow_utils][INFO] - Calling trainer.test\n",
      "Testing DataLoader 0: 100%|███████████████████████| 4/4 [00:00<00:00,  9.99it/s][2022-10-19 21:05:36,951][cytodata_aics.vae_utils][INFO] - Getting embeddings for split: train\n",
      "Error executing job with overrides: ['model=example_classifier_2d', 'data=example_dataloader_2d', 'mlflow.experiment_name=vae', 'mlflow.run_name=teamx_bfdna_zproj_20221019_205035', 'trainer/callbacks=vae', '++force=True']\n",
      "Traceback (most recent call last):\n",
      "  File \"/opt/conda/bin/serotiny\", line 8, in <module>\n",
      "    sys.exit(main())\n",
      "  File \"/opt/conda/lib/python3.10/site-packages/serotiny/cli/cli.py\", line 58, in main\n",
      "    hydra.main(config_path=None, config_name=mode, version_base=None)(\n",
      "  File \"/opt/conda/lib/python3.10/site-packages/hydra/main.py\", line 90, in decorated_main\n",
      "    _run_hydra(\n",
      "  File \"/opt/conda/lib/python3.10/site-packages/hydra/_internal/utils.py\", line 389, in _run_hydra\n",
      "    _run_app(\n",
      "  File \"/opt/conda/lib/python3.10/site-packages/hydra/_internal/utils.py\", line 452, in _run_app\n",
      "    run_and_report(\n",
      "  File \"/opt/conda/lib/python3.10/site-packages/hydra/_internal/utils.py\", line 216, in run_and_report\n",
      "    raise ex\n",
      "  File \"/opt/conda/lib/python3.10/site-packages/hydra/_internal/utils.py\", line 213, in run_and_report\n",
      "    return func()\n",
      "  File \"/opt/conda/lib/python3.10/site-packages/hydra/_internal/utils.py\", line 453, in <lambda>\n",
      "    lambda: hydra.run(\n",
      "  File \"/opt/conda/lib/python3.10/site-packages/hydra/_internal/hydra.py\", line 132, in run\n",
      "    _ = ret.return_value\n",
      "  File \"/opt/conda/lib/python3.10/site-packages/hydra/core/utils.py\", line 260, in return_value\n",
      "    raise self._return_value\n",
      "  File \"/opt/conda/lib/python3.10/site-packages/hydra/core/utils.py\", line 186, in run_job\n",
      "    ret.return_value = task_function(task_cfg)\n",
      "  File \"/opt/conda/lib/python3.10/site-packages/serotiny/ml_ops/ml_ops.py\", line 143, in _do_model_op_wrapper\n",
      "    _do_model_op(\n",
      "  File \"/opt/conda/lib/python3.10/site-packages/serotiny/ml_ops/ml_ops.py\", line 99, in _do_model_op\n",
      "    mlflow_test(mlflow, trainer, data, full_conf=full_conf)\n",
      "  File \"/opt/conda/lib/python3.10/site-packages/serotiny/ml_ops/mlflow_utils.py\", line 355, in mlflow_test\n",
      "    trainer.test(model, data)\n",
      "  File \"/opt/conda/lib/python3.10/site-packages/mlflow/utils/autologging_utils/safety.py\", line 555, in safe_patch_function\n",
      "    patch_function(call_original, *args, **kwargs)\n",
      "  File \"/opt/conda/lib/python3.10/site-packages/mlflow/utils/autologging_utils/safety.py\", line 254, in patch_with_managed_run\n",
      "    result = patch_function(original, *args, **kwargs)\n",
      "  File \"/opt/conda/lib/python3.10/site-packages/mlflow/pytorch/_pytorch_autolog.py\", line 367, in patched_fit\n",
      "    result = original(self, *args, **kwargs)\n",
      "  File \"/opt/conda/lib/python3.10/site-packages/mlflow/utils/autologging_utils/safety.py\", line 536, in call_original\n",
      "    return call_original_fn_with_event_logging(_original_fn, og_args, og_kwargs)\n",
      "  File \"/opt/conda/lib/python3.10/site-packages/mlflow/utils/autologging_utils/safety.py\", line 471, in call_original_fn_with_event_logging\n",
      "    original_fn_result = original_fn(*og_args, **og_kwargs)\n",
      "  File \"/opt/conda/lib/python3.10/site-packages/mlflow/utils/autologging_utils/safety.py\", line 533, in _original_fn\n",
      "    original_result = original(*_og_args, **_og_kwargs)\n",
      "  File \"/opt/conda/lib/python3.10/site-packages/pytorch_lightning/trainer/trainer.py\", line 936, in test\n",
      "    return self._call_and_handle_interrupt(self._test_impl, model, dataloaders, ckpt_path, verbose, datamodule)\n",
      "  File \"/opt/conda/lib/python3.10/site-packages/pytorch_lightning/trainer/trainer.py\", line 721, in _call_and_handle_interrupt\n",
      "    return trainer_fn(*args, **kwargs)\n",
      "  File \"/opt/conda/lib/python3.10/site-packages/pytorch_lightning/trainer/trainer.py\", line 983, in _test_impl\n",
      "    results = self._run(model, ckpt_path=self.ckpt_path)\n",
      "  File \"/opt/conda/lib/python3.10/site-packages/pytorch_lightning/trainer/trainer.py\", line 1234, in _run\n",
      "    results = self._run_stage()\n",
      "  File \"/opt/conda/lib/python3.10/site-packages/pytorch_lightning/trainer/trainer.py\", line 1318, in _run_stage\n",
      "    return self._run_evaluate()\n",
      "  File \"/opt/conda/lib/python3.10/site-packages/pytorch_lightning/trainer/trainer.py\", line 1363, in _run_evaluate\n",
      "    eval_loop_results = self._evaluation_loop.run()\n",
      "  File \"/opt/conda/lib/python3.10/site-packages/pytorch_lightning/loops/base.py\", line 211, in run\n",
      "    output = self.on_run_end()\n",
      "  File \"/opt/conda/lib/python3.10/site-packages/pytorch_lightning/loops/dataloader/evaluation_loop.py\", line 192, in on_run_end\n",
      "    self._on_evaluation_epoch_end()\n",
      "  File \"/opt/conda/lib/python3.10/site-packages/pytorch_lightning/loops/dataloader/evaluation_loop.py\", line 315, in _on_evaluation_epoch_end\n",
      "    self.trainer._call_callback_hooks(hook_name)\n",
      "  File \"/opt/conda/lib/python3.10/site-packages/pytorch_lightning/trainer/trainer.py\", line 1634, in _call_callback_hooks\n",
      "    fn(self, self.lightning_module, *args, **kwargs)\n",
      "  File \"/home/aicsuser/cytodata-hackathon-base/cytodata_aics/vae_utils.py\", line 241, in on_test_epoch_end\n",
      "    embeddings = get_all_embeddings(\n",
      "  File \"/home/aicsuser/cytodata-hackathon-base/cytodata_aics/vae_utils.py\", line 283, in get_all_embeddings\n",
      "    _embeddings = np.zeros((_len, pl_module.latent_dim))\n",
      "  File \"/opt/conda/lib/python3.10/site-packages/torch/nn/modules/module.py\", line 1207, in __getattr__\n",
      "    raise AttributeError(\"'{}' object has no attribute '{}'\".format(\n",
      "AttributeError: 'BasicModel' object has no attribute 'latent_dim'\n",
      "Testing DataLoader 0: 100%|██████████| 4/4 [00:00<00:00,  4.79it/s]             \n"
     ]
    }
   ],
   "source": [
    "!serotiny test \\\n",
    "    model=jan_fivechannel_vae_2d \\\n",
    "    data=jan_fivechannel_vae_dataloader_2d \\\n",
    "    mlflow.experiment_name=vae \\\n",
    "    mlflow.run_name={run_name} \\\n",
    "    trainer/callbacks=vae \\\n",
    "    ++force=True"
   ]
  }
 ],
 "metadata": {
  "kernelspec": {
   "display_name": "Python 3 (ipykernel)",
   "language": "python",
   "name": "python3"
  },
  "language_info": {
   "codemirror_mode": {
    "name": "ipython",
    "version": 3
   },
   "file_extension": ".py",
   "mimetype": "text/x-python",
   "name": "python",
   "nbconvert_exporter": "python",
   "pygments_lexer": "ipython3",
   "version": "3.10.6"
  }
 },
 "nbformat": 4,
 "nbformat_minor": 5
}
