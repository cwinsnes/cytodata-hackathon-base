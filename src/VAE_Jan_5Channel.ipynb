{
 "cells": [
  {
   "cell_type": "markdown",
   "id": "5fc3abbb-3a5b-4841-9a1f-7628e711d67f",
   "metadata": {},
   "source": [
    "# Test 5 channels (bf, dna, structure, cellseg, dnaseg)"
   ]
  },
  {
   "cell_type": "markdown",
   "id": "2aed0a49-6a1a-4b17-85aa-3f5ee69efb68",
   "metadata": {},
   "source": [
    "## Load package and data"
   ]
  },
  {
   "cell_type": "code",
   "execution_count": 41,
   "id": "70afd1c7-060e-45b6-a36e-eac6f9b8649e",
   "metadata": {},
   "outputs": [],
   "source": [
    "from upath import UPath as Path\n",
    "import pandas as pd\n",
    "import numpy as np\n",
    "import matplotlib.pyplot as plt\n",
    "import seaborn as sns\n",
    "import nbvv\n",
    "\n",
    "from serotiny.io.image import image_loader\n",
    "from cytodata_aics.io_utils import rescale_image"
   ]
  },
  {
   "cell_type": "code",
   "execution_count": 42,
   "id": "9c324ae0-07be-4073-8523-0592f1e9865f",
   "metadata": {},
   "outputs": [],
   "source": [
    "import os\n",
    "os.chdir(\"/home/aicsuser/cytodata-hackathon-base\")"
   ]
  },
  {
   "cell_type": "code",
   "execution_count": 43,
   "id": "ab091505-98fe-4c8b-a870-551bce3699f0",
   "metadata": {},
   "outputs": [],
   "source": [
    "from datetime import datetime\n",
    "\n",
    "# util to avoid referring to the same run unintentionally\n",
    "now_str = lambda : datetime.now().strftime(\"%Y%m%d_%H%M%S\")"
   ]
  },
  {
   "cell_type": "markdown",
   "id": "886d5451-4b36-4410-ab1b-8e28a73ebde0",
   "metadata": {},
   "source": [
    "## Model"
   ]
  },
  {
   "cell_type": "code",
   "execution_count": 44,
   "id": "57f6d34a-5300-4d23-9ae0-64a5049c58cd",
   "metadata": {},
   "outputs": [
    {
     "name": "stdout",
     "output_type": "stream",
     "text": [
      "Number of cells: 8179\n",
      "Number of columns: 79\n"
     ]
    }
   ],
   "source": [
    "from serotiny.transforms.dataframe.transforms import split_dataframe\n",
    "data_dir = \"/home/aicsuser/cytodata-hackathon-base/data\"\n",
    "\n",
    "df = pd.read_csv(f\"{data_dir}/mitocells.csv\")\n",
    "print(f'Number of cells: {len(df)}')\n",
    "print(f'Number of columns: {len(df.columns)}')"
   ]
  },
  {
   "cell_type": "code",
   "execution_count": 45,
   "id": "4107bf58-04f0-4eac-84e3-9a37e2f09bc2",
   "metadata": {},
   "outputs": [
    {
     "data": {
      "text/plain": [
       "M0               2000\n",
       "M1M2             2000\n",
       "M4M5             2000\n",
       "M6M7_complete    1198\n",
       "M3                981\n",
       "Name: cell_stage, dtype: int64"
      ]
     },
     "execution_count": 45,
     "metadata": {},
     "output_type": "execute_result"
    }
   ],
   "source": [
    "df[\"cell_stage\"].value_counts()"
   ]
  },
  {
   "cell_type": "code",
   "execution_count": 46,
   "id": "d6431cd1-cc64-41e4-9b66-c7e515752184",
   "metadata": {},
   "outputs": [],
   "source": [
    "import os\n",
    "os.chdir(\"/home/aicsuser/cytodata-hackathon-base\")"
   ]
  },
  {
   "cell_type": "code",
   "execution_count": 47,
   "id": "5e56df43-8a41-4272-82ee-a414aa6a2557",
   "metadata": {},
   "outputs": [],
   "source": [
    "from datetime import datetime\n",
    "\n",
    "# util to avoid referring to the same run unintentionally\n",
    "now_str = lambda : datetime.now().strftime(\"%Y%m%d_%H%M%S\")\n",
    "run_name = f\"teamx_bfdnastruct_dnaSeg_structSeg_vae_zproj_{now_str()}\""
   ]
  },
  {
   "cell_type": "markdown",
   "id": "1569c9c2-a6e2-4fa4-b4da-697e8dcea280",
   "metadata": {},
   "source": [
    "# Load and train"
   ]
  },
  {
   "cell_type": "code",
   "execution_count": null,
   "id": "e92b578d-cfe4-449c-9422-e995ce4ca5dd",
   "metadata": {},
   "outputs": [
    {
     "name": "stdout",
     "output_type": "stream",
     "text": [
      "teamx_bfdnastruct_dnaSeg_structSeg_vae_zproj_20221019_234816\n",
      "[2022-10-19 23:48:25,142][pytorch_lightning.utilities.seed][INFO] - Global seed set to 42\n",
      "[2022-10-19 23:48:25,143][serotiny.ml_ops.ml_ops][INFO] - Instantiating datamodule\n",
      "[2022-10-19 23:48:28,846][serotiny.ml_ops.ml_ops][INFO] - Instantiating trainer\n",
      "[2022-10-19 23:48:28,887][pytorch_lightning.utilities.rank_zero][INFO] - GPU available: True, used: True\n",
      "[2022-10-19 23:48:28,888][pytorch_lightning.utilities.rank_zero][INFO] - TPU available: False, using: 0 TPU cores\n",
      "[2022-10-19 23:48:28,888][pytorch_lightning.utilities.rank_zero][INFO] - IPU available: False, using: 0 IPUs\n",
      "[2022-10-19 23:48:28,888][pytorch_lightning.utilities.rank_zero][INFO] - HPU available: False, using: 0 HPUs\n",
      "[2022-10-19 23:48:28,889][serotiny.ml_ops.ml_ops][INFO] - Instantiating model\n",
      "[2022-10-19 23:48:28,939][serotiny.networks.basic_cnn.basic_cnn][INFO] - Determined 'compressed size': 41496 for CNN\n",
      "[2022-10-19 23:48:30,381][serotiny.networks.basic_cnn.basic_cnn][INFO] - Determined 'compressed size': 534072 for CNN\n",
      "[2022-10-19 23:48:30,621][torch.distributed.nn.jit.instantiator][INFO] - Created a temporary directory at /tmp/tmp8ix7ueov\n",
      "[2022-10-19 23:48:30,621][torch.distributed.nn.jit.instantiator][INFO] - Writing /tmp/tmp8ix7ueov/_remote_module_non_scriptable.py\n",
      "[2022-10-19 23:48:30,643][serotiny.ml_ops.mlflow_utils][INFO] - Validating and processing MLFlow configuration\n",
      "/opt/conda/lib/python3.10/site-packages/serotiny/ml_ops/mlflow_utils.py:156: FutureWarning: ``mlflow.tracking.fluent.list_run_infos`` is deprecated. This method will be removed in a future release. Use ``search_runs()`` instead.\n",
      "  for run_info in mlflow.list_run_infos(experiment_id=experiment_id):\n",
      "/opt/conda/lib/python3.10/site-packages/mlflow/tracking/fluent.py:1599: FutureWarning: ``mlflow.tracking.client.MlflowClient.list_run_infos`` is deprecated. This method will be removed in a future release. Use ``search_runs()`` instead.\n",
      "  return MlflowClient().list_run_infos(\n",
      "[2022-10-19 23:48:31,230][serotiny.ml_ops.mlflow_utils][INFO] - Calling trainer.fit\n",
      "[2022-10-19 23:48:34,386][pytorch_lightning.accelerators.gpu][INFO] - LOCAL_RANK: 0 - CUDA_VISIBLE_DEVICES: [0]\n",
      "[2022-10-19 23:48:34,388][pytorch_lightning.callbacks.model_summary][INFO] - \n",
      "  | Name    | Type       | Params\n",
      "---------------------------------------\n",
      "0 | encoder | ModuleDict | 42.5 M\n",
      "1 | decoder | ModuleDict | 21.3 M\n",
      "2 | prior   | ModuleDict | 0     \n",
      "---------------------------------------\n",
      "63.8 M    Trainable params\n",
      "0         Non-trainable params\n",
      "63.8 M    Total params\n",
      "255.123   Total estimated model params size (MB)\n",
      "Sanity Checking: 0it [00:00, ?it/s]"
     ]
    }
   ],
   "source": [
    "print(run_name)\n",
    "\n",
    "!serotiny train \\\n",
    "    model=jan_fivechannel_vae_2d\\\n",
    "    data=jan_fivechannel_vae_dataloader_2d \\\n",
    "    mlflow.experiment_name=vae5channnel \\\n",
    "    mlflow.run_name={run_name} \\\n",
    "    trainer.gpus=[0] \\\n",
    "    trainer.max_epochs=30\n",
    "\n",
    "# ++make_notebook=demo.ipynb"
   ]
  },
  {
   "cell_type": "code",
   "execution_count": 37,
   "id": "bfdc4b7f-d3af-47b5-8a25-da0e7b642fdd",
   "metadata": {},
   "outputs": [
    {
     "name": "stdout",
     "output_type": "stream",
     "text": [
      "[2022-10-19 23:43:35,003][pytorch_lightning.utilities.seed][INFO] - Global seed set to 42\n",
      "[2022-10-19 23:43:35,004][serotiny.ml_ops.ml_ops][INFO] - Instantiating datamodule\n",
      "[2022-10-19 23:43:38,699][serotiny.ml_ops.ml_ops][INFO] - Instantiating trainer\n",
      "/opt/conda/lib/python3.10/site-packages/pytorch_lightning/loops/utilities.py:91: PossibleUserWarning: `max_epochs` was not set. Setting it to 1000 epochs. To train without an epoch limit, set `max_epochs=-1`.\n",
      "  rank_zero_warn(\n",
      "[2022-10-19 23:43:39,105][pytorch_lightning.utilities.rank_zero][INFO] - GPU available: True, used: False\n",
      "[2022-10-19 23:43:39,105][pytorch_lightning.utilities.rank_zero][INFO] - TPU available: False, using: 0 TPU cores\n",
      "[2022-10-19 23:43:39,105][pytorch_lightning.utilities.rank_zero][INFO] - IPU available: False, using: 0 IPUs\n",
      "[2022-10-19 23:43:39,106][pytorch_lightning.utilities.rank_zero][INFO] - HPU available: False, using: 0 HPUs\n",
      "/opt/conda/lib/python3.10/site-packages/pytorch_lightning/trainer/trainer.py:1812: PossibleUserWarning: GPU available but not used. Set `accelerator` and `devices` using `Trainer(accelerator='gpu', devices=1)`.\n",
      "  rank_zero_warn(\n",
      "[2022-10-19 23:43:39,107][serotiny.ml_ops.ml_ops][INFO] - Instantiating model\n",
      "[2022-10-19 23:43:39,183][serotiny.networks.basic_cnn.basic_cnn][INFO] - Determined 'compressed size': 41496 for CNN\n",
      "[2022-10-19 23:43:40,696][serotiny.networks.basic_cnn.basic_cnn][INFO] - Determined 'compressed size': 534072 for CNN\n",
      "[2022-10-19 23:43:40,969][torch.distributed.nn.jit.instantiator][INFO] - Created a temporary directory at /tmp/tmpesq1os6t\n",
      "[2022-10-19 23:43:40,970][torch.distributed.nn.jit.instantiator][INFO] - Writing /tmp/tmpesq1os6t/_remote_module_non_scriptable.py\n",
      "[2022-10-19 23:43:41,000][serotiny.ml_ops.mlflow_utils][INFO] - Validating and processing MLFlow configuration\n",
      "/opt/conda/lib/python3.10/site-packages/serotiny/ml_ops/mlflow_utils.py:156: FutureWarning: ``mlflow.tracking.fluent.list_run_infos`` is deprecated. This method will be removed in a future release. Use ``search_runs()`` instead.\n",
      "  for run_info in mlflow.list_run_infos(experiment_id=experiment_id):\n",
      "/opt/conda/lib/python3.10/site-packages/mlflow/tracking/fluent.py:1599: FutureWarning: ``mlflow.tracking.client.MlflowClient.list_run_infos`` is deprecated. This method will be removed in a future release. Use ``search_runs()`` instead.\n",
      "  return MlflowClient().list_run_infos(\n",
      "^C\n",
      "[2022-10-19 23:44:41,973][serotiny.ml_ops.mlflow_utils][INFO] - Given run_id doesn't have a checkpoint we can use.\n"
     ]
    }
   ],
   "source": [
    "#run_name=\"teamx_bfdnastruct_dnaSeg_structSeg_vae_zproj_20221019_231333\"\n",
    "!serotiny test \\\n",
    "    model=jan_fivechannel_vae_2d \\\n",
    "    data=jan_fivechannel_vae_dataloader_2d \\\n",
    "    mlflow.experiment_name=vae5channnel \\\n",
    "    trainer/callbacks=vae \\\n",
    "    mlflow.run_name={run_name} \\\n",
    "    ++force=True"
   ]
  },
  {
   "cell_type": "markdown",
   "id": "317c7958-3071-45f4-8b9b-a5463f43102f",
   "metadata": {},
   "source": [
    "## Explore the latent space"
   ]
  },
  {
   "cell_type": "code",
   "execution_count": 40,
   "id": "f18c386a-8fd8-4acf-bb1b-d927af9da6a8",
   "metadata": {},
   "outputs": [
    {
     "ename": "MlflowException",
     "evalue": "The following failures occurred while downloading one or more artifacts from http://mlflow.mlflow.svc.cluster.local/api/2.0/mlflow-artifacts/artifacts/11/e5d8493c1a114471aab1b18bdba28488/artifacts: {'dataframes/embeddings.csv': 'MlflowException(\"API request to http://mlflow.mlflow.svc.cluster.local/api/2.0/mlflow-artifacts/artifacts/11/e5d8493c1a114471aab1b18bdba28488/artifacts/dataframes/embeddings.csv failed with exception HTTPConnectionPool(host=\\'mlflow.mlflow.svc.cluster.local\\', port=80): Max retries exceeded with url: /api/2.0/mlflow-artifacts/artifacts/11/e5d8493c1a114471aab1b18bdba28488/artifacts/dataframes/embeddings.csv (Caused by ResponseError(\\'too many 500 error responses\\'))\")'}",
     "output_type": "error",
     "traceback": [
      "\u001b[0;31m---------------------------------------------------------------------------\u001b[0m",
      "\u001b[0;31mMlflowException\u001b[0m                           Traceback (most recent call last)",
      "Cell \u001b[0;32mIn [40], line 7\u001b[0m\n\u001b[1;32m      3\u001b[0m \u001b[38;5;28;01mfrom\u001b[39;00m \u001b[38;5;21;01mserotiny\u001b[39;00m\u001b[38;5;21;01m.\u001b[39;00m\u001b[38;5;21;01mml_ops\u001b[39;00m\u001b[38;5;21;01m.\u001b[39;00m\u001b[38;5;21;01mmlflow_utils\u001b[39;00m \u001b[38;5;28;01mimport\u001b[39;00m download_artifact\n\u001b[1;32m      5\u001b[0m mlflow\u001b[38;5;241m.\u001b[39mset_tracking_uri(\u001b[38;5;124m\"\u001b[39m\u001b[38;5;124mhttp://mlflow.mlflow.svc.cluster.local\u001b[39m\u001b[38;5;124m\"\u001b[39m)\n\u001b[0;32m----> 7\u001b[0m \u001b[38;5;28;01mwith\u001b[39;00m download_artifact(\u001b[38;5;124m\"\u001b[39m\u001b[38;5;124mdataframes/embeddings.csv\u001b[39m\u001b[38;5;124m\"\u001b[39m, experiment_name\u001b[38;5;241m=\u001b[39m\u001b[38;5;124m\"\u001b[39m\u001b[38;5;124mvae5channnel\u001b[39m\u001b[38;5;124m\"\u001b[39m, run_name\u001b[38;5;241m=\u001b[39mrun_name) \u001b[38;5;28;01mas\u001b[39;00m path:\n\u001b[1;32m      8\u001b[0m     embeddings \u001b[38;5;241m=\u001b[39m pd\u001b[38;5;241m.\u001b[39mread_csv(path)\n\u001b[1;32m     10\u001b[0m \u001b[38;5;28;01mwith\u001b[39;00m download_artifact(\u001b[38;5;124m\"\u001b[39m\u001b[38;5;124mdataframes/stats_per_dim_test.csv\u001b[39m\u001b[38;5;124m\"\u001b[39m, experiment_name\u001b[38;5;241m=\u001b[39m\u001b[38;5;124m\"\u001b[39m\u001b[38;5;124mvae5channnel\u001b[39m\u001b[38;5;124m\"\u001b[39m, run_name\u001b[38;5;241m=\u001b[39mrun_name) \u001b[38;5;28;01mas\u001b[39;00m path:\n",
      "File \u001b[0;32m/opt/conda/lib/python3.10/contextlib.py:135\u001b[0m, in \u001b[0;36m_GeneratorContextManager.__enter__\u001b[0;34m(self)\u001b[0m\n\u001b[1;32m    133\u001b[0m \u001b[38;5;28;01mdel\u001b[39;00m \u001b[38;5;28mself\u001b[39m\u001b[38;5;241m.\u001b[39margs, \u001b[38;5;28mself\u001b[39m\u001b[38;5;241m.\u001b[39mkwds, \u001b[38;5;28mself\u001b[39m\u001b[38;5;241m.\u001b[39mfunc\n\u001b[1;32m    134\u001b[0m \u001b[38;5;28;01mtry\u001b[39;00m:\n\u001b[0;32m--> 135\u001b[0m     \u001b[38;5;28;01mreturn\u001b[39;00m \u001b[38;5;28;43mnext\u001b[39;49m\u001b[43m(\u001b[49m\u001b[38;5;28;43mself\u001b[39;49m\u001b[38;5;241;43m.\u001b[39;49m\u001b[43mgen\u001b[49m\u001b[43m)\u001b[49m\n\u001b[1;32m    136\u001b[0m \u001b[38;5;28;01mexcept\u001b[39;00m \u001b[38;5;167;01mStopIteration\u001b[39;00m:\n\u001b[1;32m    137\u001b[0m     \u001b[38;5;28;01mraise\u001b[39;00m \u001b[38;5;167;01mRuntimeError\u001b[39;00m(\u001b[38;5;124m\"\u001b[39m\u001b[38;5;124mgenerator didn\u001b[39m\u001b[38;5;124m'\u001b[39m\u001b[38;5;124mt yield\u001b[39m\u001b[38;5;124m\"\u001b[39m) \u001b[38;5;28;01mfrom\u001b[39;00m \u001b[38;5;28mNone\u001b[39m\n",
      "File \u001b[0;32m/opt/conda/lib/python3.10/site-packages/serotiny/ml_ops/mlflow_utils.py:436\u001b[0m, in \u001b[0;36mdownload_artifact\u001b[0;34m(artifact_path, experiment_name, run_name, run_id)\u001b[0m\n\u001b[1;32m    434\u001b[0m \u001b[38;5;28;01mtry\u001b[39;00m:\n\u001b[1;32m    435\u001b[0m     client \u001b[38;5;241m=\u001b[39m mlflow\u001b[38;5;241m.\u001b[39mtracking\u001b[38;5;241m.\u001b[39mMlflowClient(mlflow\u001b[38;5;241m.\u001b[39mget_tracking_uri())\n\u001b[0;32m--> 436\u001b[0m     \u001b[38;5;28;01myield\u001b[39;00m \u001b[43mclient\u001b[49m\u001b[38;5;241;43m.\u001b[39;49m\u001b[43mdownload_artifacts\u001b[49m\u001b[43m(\u001b[49m\n\u001b[1;32m    437\u001b[0m \u001b[43m        \u001b[49m\u001b[43mrun_id\u001b[49m\u001b[38;5;241;43m=\u001b[39;49m\u001b[43mrun_id\u001b[49m\u001b[43m,\u001b[49m\n\u001b[1;32m    438\u001b[0m \u001b[43m        \u001b[49m\u001b[43mpath\u001b[49m\u001b[38;5;241;43m=\u001b[39;49m\u001b[43martifact_path\u001b[49m\u001b[43m,\u001b[49m\n\u001b[1;32m    439\u001b[0m \u001b[43m        \u001b[49m\u001b[43mdst_path\u001b[49m\u001b[38;5;241;43m=\u001b[39;49m\u001b[43mtmp_dir\u001b[49m\u001b[43m,\u001b[49m\n\u001b[1;32m    440\u001b[0m \u001b[43m    \u001b[49m\u001b[43m)\u001b[49m\n\u001b[1;32m    442\u001b[0m \u001b[38;5;28;01mfinally\u001b[39;00m:\n\u001b[1;32m    443\u001b[0m     \u001b[38;5;28;01mpass\u001b[39;00m\n",
      "File \u001b[0;32m/opt/conda/lib/python3.10/site-packages/mlflow/tracking/client.py:1537\u001b[0m, in \u001b[0;36mMlflowClient.download_artifacts\u001b[0;34m(self, run_id, path, dst_path)\u001b[0m\n\u001b[1;32m   1493\u001b[0m \u001b[38;5;28;01mdef\u001b[39;00m \u001b[38;5;21mdownload_artifacts\u001b[39m(\u001b[38;5;28mself\u001b[39m, run_id: \u001b[38;5;28mstr\u001b[39m, path: \u001b[38;5;28mstr\u001b[39m, dst_path: Optional[\u001b[38;5;28mstr\u001b[39m] \u001b[38;5;241m=\u001b[39m \u001b[38;5;28;01mNone\u001b[39;00m) \u001b[38;5;241m-\u001b[39m\u001b[38;5;241m>\u001b[39m \u001b[38;5;28mstr\u001b[39m:\n\u001b[1;32m   1494\u001b[0m     \u001b[38;5;124;03m\"\"\"\u001b[39;00m\n\u001b[1;32m   1495\u001b[0m \u001b[38;5;124;03m    Download an artifact file or directory from a run to a local directory if applicable,\u001b[39;00m\n\u001b[1;32m   1496\u001b[0m \u001b[38;5;124;03m    and return a local path for it.\u001b[39;00m\n\u001b[0;32m   (...)\u001b[0m\n\u001b[1;32m   1535\u001b[0m \u001b[38;5;124;03m        Artifacts: ['features.txt']\u001b[39;00m\n\u001b[1;32m   1536\u001b[0m \u001b[38;5;124;03m    \"\"\"\u001b[39;00m\n\u001b[0;32m-> 1537\u001b[0m     \u001b[38;5;28;01mreturn\u001b[39;00m \u001b[38;5;28;43mself\u001b[39;49m\u001b[38;5;241;43m.\u001b[39;49m\u001b[43m_tracking_client\u001b[49m\u001b[38;5;241;43m.\u001b[39;49m\u001b[43mdownload_artifacts\u001b[49m\u001b[43m(\u001b[49m\u001b[43mrun_id\u001b[49m\u001b[43m,\u001b[49m\u001b[43m \u001b[49m\u001b[43mpath\u001b[49m\u001b[43m,\u001b[49m\u001b[43m \u001b[49m\u001b[43mdst_path\u001b[49m\u001b[43m)\u001b[49m\n",
      "File \u001b[0;32m/opt/conda/lib/python3.10/site-packages/mlflow/tracking/_tracking_service/client.py:458\u001b[0m, in \u001b[0;36mTrackingServiceClient.download_artifacts\u001b[0;34m(self, run_id, path, dst_path)\u001b[0m\n\u001b[1;32m    444\u001b[0m \u001b[38;5;28;01mdef\u001b[39;00m \u001b[38;5;21mdownload_artifacts\u001b[39m(\u001b[38;5;28mself\u001b[39m, run_id, path, dst_path\u001b[38;5;241m=\u001b[39m\u001b[38;5;28;01mNone\u001b[39;00m):\n\u001b[1;32m    445\u001b[0m     \u001b[38;5;124;03m\"\"\"\u001b[39;00m\n\u001b[1;32m    446\u001b[0m \u001b[38;5;124;03m    Download an artifact file or directory from a run to a local directory if applicable,\u001b[39;00m\n\u001b[1;32m    447\u001b[0m \u001b[38;5;124;03m    and return a local path for it.\u001b[39;00m\n\u001b[0;32m   (...)\u001b[0m\n\u001b[1;32m    456\u001b[0m \u001b[38;5;124;03m    :return: Local path of desired artifact.\u001b[39;00m\n\u001b[1;32m    457\u001b[0m \u001b[38;5;124;03m    \"\"\"\u001b[39;00m\n\u001b[0;32m--> 458\u001b[0m     \u001b[38;5;28;01mreturn\u001b[39;00m \u001b[38;5;28;43mself\u001b[39;49m\u001b[38;5;241;43m.\u001b[39;49m\u001b[43m_get_artifact_repo\u001b[49m\u001b[43m(\u001b[49m\u001b[43mrun_id\u001b[49m\u001b[43m)\u001b[49m\u001b[38;5;241;43m.\u001b[39;49m\u001b[43mdownload_artifacts\u001b[49m\u001b[43m(\u001b[49m\u001b[43mpath\u001b[49m\u001b[43m,\u001b[49m\u001b[43m \u001b[49m\u001b[43mdst_path\u001b[49m\u001b[43m)\u001b[49m\n",
      "File \u001b[0;32m/opt/conda/lib/python3.10/site-packages/mlflow/store/artifact/artifact_repo.py:263\u001b[0m, in \u001b[0;36mArtifactRepository.download_artifacts\u001b[0;34m(self, artifact_path, dst_path)\u001b[0m\n\u001b[1;32m    260\u001b[0m         failed_downloads[inflight_download\u001b[38;5;241m.\u001b[39msrc_artifact_path] \u001b[38;5;241m=\u001b[39m \u001b[38;5;28mrepr\u001b[39m(e)\n\u001b[1;32m    262\u001b[0m \u001b[38;5;28;01mif\u001b[39;00m \u001b[38;5;28mlen\u001b[39m(failed_downloads) \u001b[38;5;241m>\u001b[39m \u001b[38;5;241m0\u001b[39m:\n\u001b[0;32m--> 263\u001b[0m     \u001b[38;5;28;01mraise\u001b[39;00m MlflowException(\n\u001b[1;32m    264\u001b[0m         message\u001b[38;5;241m=\u001b[39m(\n\u001b[1;32m    265\u001b[0m             \u001b[38;5;124m\"\u001b[39m\u001b[38;5;124mThe following failures occurred while downloading one or more\u001b[39m\u001b[38;5;124m\"\u001b[39m\n\u001b[1;32m    266\u001b[0m             \u001b[38;5;124m\"\u001b[39m\u001b[38;5;124m artifacts from \u001b[39m\u001b[38;5;132;01m{artifact_root}\u001b[39;00m\u001b[38;5;124m: \u001b[39m\u001b[38;5;132;01m{failures}\u001b[39;00m\u001b[38;5;124m\"\u001b[39m\u001b[38;5;241m.\u001b[39mformat(\n\u001b[1;32m    267\u001b[0m                 artifact_root\u001b[38;5;241m=\u001b[39m\u001b[38;5;28mself\u001b[39m\u001b[38;5;241m.\u001b[39martifact_uri,\n\u001b[1;32m    268\u001b[0m                 failures\u001b[38;5;241m=\u001b[39mfailed_downloads,\n\u001b[1;32m    269\u001b[0m             )\n\u001b[1;32m    270\u001b[0m         )\n\u001b[1;32m    271\u001b[0m     )\n\u001b[1;32m    272\u001b[0m \u001b[38;5;28;01mreturn\u001b[39;00m dst_local_path\n",
      "\u001b[0;31mMlflowException\u001b[0m: The following failures occurred while downloading one or more artifacts from http://mlflow.mlflow.svc.cluster.local/api/2.0/mlflow-artifacts/artifacts/11/e5d8493c1a114471aab1b18bdba28488/artifacts: {'dataframes/embeddings.csv': 'MlflowException(\"API request to http://mlflow.mlflow.svc.cluster.local/api/2.0/mlflow-artifacts/artifacts/11/e5d8493c1a114471aab1b18bdba28488/artifacts/dataframes/embeddings.csv failed with exception HTTPConnectionPool(host=\\'mlflow.mlflow.svc.cluster.local\\', port=80): Max retries exceeded with url: /api/2.0/mlflow-artifacts/artifacts/11/e5d8493c1a114471aab1b18bdba28488/artifacts/dataframes/embeddings.csv (Caused by ResponseError(\\'too many 500 error responses\\'))\")'}"
     ]
    }
   ],
   "source": [
    "#run_name=\"teamx_bfdnastruct_dnaSeg_structSeg_vae_zproj_20221019_231333\"\n",
    "import mlflow\n",
    "from serotiny.ml_ops.mlflow_utils import download_artifact\n",
    "\n",
    "mlflow.set_tracking_uri(\"http://mlflow.mlflow.svc.cluster.local\")\n",
    "\n",
    "with download_artifact(\"dataframes/embeddings.csv\", experiment_name=\"vae5channnel\", run_name=run_name) as path:\n",
    "    embeddings = pd.read_csv(path)\n",
    "    \n",
    "with download_artifact(\"dataframes/stats_per_dim_test.csv\", experiment_name=\"vae5channnel\", run_name=run_name) as path:\n",
    "    kl_per_dimension = pd.read_csv(path)"
   ]
  },
  {
   "cell_type": "code",
   "execution_count": null,
   "id": "e501fef1-e6cb-4a56-bc32-b2f73a194f14",
   "metadata": {},
   "outputs": [],
   "source": [
    "# Get dimension ranks based on KLD values\n",
    "from cytodata_aics.vae_utils import get_ranked_dims\n",
    "ranked_z_dim_list, mu_std_list, mu_mean_list = get_ranked_dims(kl_per_dimension, 0, 8)"
   ]
  },
  {
   "cell_type": "code",
   "execution_count": null,
   "id": "14c54dd0-33bb-4853-b05d-34a1d9a3219d",
   "metadata": {},
   "outputs": [],
   "source": [
    "ranked_z_dim_list = [f\"mu_{i}\" for i in ranked_z_dim_list]\n",
    "updated_ranks = [f\"mu_{i+1}\" for i in range(8)]\n",
    "embeddings = embeddings[[i for i in embeddings.columns if i in ranked_z_dim_list] + ['CellId']]"
   ]
  },
  {
   "cell_type": "code",
   "execution_count": null,
   "id": "f9520b0a-ec6c-4a54-932f-133b01da7e67",
   "metadata": {},
   "outputs": [],
   "source": [
    "# Rank embeddings from 1 to 8\n",
    "rename_cols = {}\n",
    "for i, j in zip(ranked_z_dim_list, updated_ranks):\n",
    "    rename_cols[i] = j\n",
    "embeddings.rename(columns = rename_cols, inplace=True)\n",
    "embeddings = embeddings.reindex(sorted(embeddings.columns), axis=1)"
   ]
  },
  {
   "cell_type": "code",
   "execution_count": null,
   "id": "7c914fd2-b5ba-4979-9dfe-4b81a1a9ca2a",
   "metadata": {},
   "outputs": [],
   "source": [
    "embeddings = embeddings.merge(mitocells[['CellId'] + \n",
    "                                                 [i for i in mitocells.columns if \"shape_mode\" in i] + \n",
    "                                                ['nuclear_volume', 'nuclear_height', 'nuclear_surface_area']], on = 'CellId')"
   ]
  },
  {
   "cell_type": "code",
   "execution_count": null,
   "id": "fa084bd1-ccf1-4874-ad9d-f998bb10691d",
   "metadata": {},
   "outputs": [],
   "source": [
    "sns.heatmap(embeddings[[i for i in embeddings.columns if i != 'CellId']].corr(), vmin=-1, vmax=1, cmap='RdBu_r')"
   ]
  },
  {
   "cell_type": "code",
   "execution_count": null,
   "id": "b8a1f514-16ef-492d-93a4-3bf7d2c91a8e",
   "metadata": {},
   "outputs": [],
   "source": []
  }
 ],
 "metadata": {
  "kernelspec": {
   "display_name": "Python 3 (ipykernel)",
   "language": "python",
   "name": "python3"
  },
  "language_info": {
   "codemirror_mode": {
    "name": "ipython",
    "version": 3
   },
   "file_extension": ".py",
   "mimetype": "text/x-python",
   "name": "python",
   "nbconvert_exporter": "python",
   "pygments_lexer": "ipython3",
   "version": "3.10.6"
  }
 },
 "nbformat": 4,
 "nbformat_minor": 5
}
