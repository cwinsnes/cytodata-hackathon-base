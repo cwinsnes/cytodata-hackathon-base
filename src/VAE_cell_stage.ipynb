{
 "cells": [
  {
   "cell_type": "markdown",
   "id": "2aed0a49-6a1a-4b17-85aa-3f5ee69efb68",
   "metadata": {},
   "source": [
    "## Load package and data"
   ]
  },
  {
   "cell_type": "code",
   "execution_count": 1,
   "id": "70afd1c7-060e-45b6-a36e-eac6f9b8649e",
   "metadata": {},
   "outputs": [
    {
     "name": "stderr",
     "output_type": "stream",
     "text": [
      "19-Oct-22 20:50:34 - bfio.backends - WARNING  - Java backend is not available. This could be due to a missing dependency (jpype).\n"
     ]
    }
   ],
   "source": [
    "from upath import UPath as Path\n",
    "import pandas as pd\n",
    "import numpy as np\n",
    "import matplotlib.pyplot as plt\n",
    "import seaborn as sns\n",
    "import nbvv\n",
    "\n",
    "from serotiny.io.image import image_loader\n",
    "from cytodata_aics.io_utils import rescale_image"
   ]
  },
  {
   "cell_type": "markdown",
   "id": "886d5451-4b36-4410-ab1b-8e28a73ebde0",
   "metadata": {},
   "source": [
    "# Model"
   ]
  },
  {
   "cell_type": "code",
   "execution_count": 2,
   "id": "57f6d34a-5300-4d23-9ae0-64a5049c58cd",
   "metadata": {},
   "outputs": [
    {
     "name": "stdout",
     "output_type": "stream",
     "text": [
      "Number of cells: 8179\n",
      "Number of columns: 79\n"
     ]
    }
   ],
   "source": [
    "from serotiny.transforms.dataframe.transforms import split_dataframe\n",
    "data_dir = \"/home/aicsuser/cytodata-hackathon-base/data\"\n",
    "\n",
    "df = pd.read_csv(f\"{data_dir}/mitocells.csv\")\n",
    "print(f'Number of cells: {len(df)}')\n",
    "print(f'Number of columns: {len(df.columns)}')"
   ]
  },
  {
   "cell_type": "code",
   "execution_count": 3,
   "id": "4107bf58-04f0-4eac-84e3-9a37e2f09bc2",
   "metadata": {},
   "outputs": [
    {
     "data": {
      "text/plain": [
       "M0               2000\n",
       "M1M2             2000\n",
       "M4M5             2000\n",
       "M6M7_complete    1198\n",
       "M3                981\n",
       "Name: cell_stage, dtype: int64"
      ]
     },
     "execution_count": 3,
     "metadata": {},
     "output_type": "execute_result"
    }
   ],
   "source": [
    "df[\"cell_stage\"].value_counts()"
   ]
  },
  {
   "cell_type": "code",
   "execution_count": 4,
   "id": "d6431cd1-cc64-41e4-9b66-c7e515752184",
   "metadata": {},
   "outputs": [],
   "source": [
    "import os\n",
    "os.chdir(\"/home/aicsuser/cytodata-hackathon-base\")"
   ]
  },
  {
   "cell_type": "code",
   "execution_count": 5,
   "id": "5e56df43-8a41-4272-82ee-a414aa6a2557",
   "metadata": {},
   "outputs": [],
   "source": [
    "from datetime import datetime\n",
    "\n",
    "# util to avoid referring to the same run unintentionally\n",
    "now_str = lambda : datetime.now().strftime(\"%Y%m%d_%H%M%S\")"
   ]
  },
  {
   "cell_type": "markdown",
   "id": "1569c9c2-a6e2-4fa4-b4da-697e8dcea280",
   "metadata": {},
   "source": [
    "# Load and train"
   ]
  },
  {
   "cell_type": "code",
   "execution_count": null,
   "id": "e92b578d-cfe4-449c-9422-e995ce4ca5dd",
   "metadata": {},
   "outputs": [
    {
     "name": "stdout",
     "output_type": "stream",
     "text": [
      "teamx_bfdna_zproj_20221019_210919\n",
      "[2022-10-19 21:09:23,243][pytorch_lightning.utilities.seed][INFO] - Global seed set to 42\n",
      "[2022-10-19 21:09:23,244][serotiny.ml_ops.ml_ops][INFO] - Instantiating datamodule\n",
      "[2022-10-19 21:09:25,714][serotiny.ml_ops.ml_ops][INFO] - Instantiating trainer\n",
      "[2022-10-19 21:09:25,765][pytorch_lightning.utilities.rank_zero][INFO] - GPU available: True, used: True\n",
      "[2022-10-19 21:09:25,765][pytorch_lightning.utilities.rank_zero][INFO] - TPU available: False, using: 0 TPU cores\n",
      "[2022-10-19 21:09:25,765][pytorch_lightning.utilities.rank_zero][INFO] - IPU available: False, using: 0 IPUs\n",
      "[2022-10-19 21:09:25,766][pytorch_lightning.utilities.rank_zero][INFO] - HPU available: False, using: 0 HPUs\n",
      "[2022-10-19 21:09:25,766][serotiny.ml_ops.ml_ops][INFO] - Instantiating model\n",
      "[2022-10-19 21:09:25,794][serotiny.networks.basic_cnn.basic_cnn][INFO] - Determined 'compressed size': 21476 for CNN\n",
      "[2022-10-19 21:09:26,278][serotiny.networks.basic_cnn.basic_cnn][INFO] - Determined 'compressed size': 48246 for CNN\n",
      "[2022-10-19 21:09:26,368][torch.distributed.nn.jit.instantiator][INFO] - Created a temporary directory at /tmp/tmpss2gj3p3\n",
      "[2022-10-19 21:09:26,369][torch.distributed.nn.jit.instantiator][INFO] - Writing /tmp/tmpss2gj3p3/_remote_module_non_scriptable.py\n",
      "[2022-10-19 21:09:26,386][serotiny.ml_ops.mlflow_utils][INFO] - Validating and processing MLFlow configuration\n",
      "/opt/conda/lib/python3.10/site-packages/serotiny/ml_ops/mlflow_utils.py:156: FutureWarning: ``mlflow.tracking.fluent.list_run_infos`` is deprecated. This method will be removed in a future release. Use ``search_runs()`` instead.\n",
      "  for run_info in mlflow.list_run_infos(experiment_id=experiment_id):\n",
      "/opt/conda/lib/python3.10/site-packages/mlflow/tracking/fluent.py:1599: FutureWarning: ``mlflow.tracking.client.MlflowClient.list_run_infos`` is deprecated. This method will be removed in a future release. Use ``search_runs()`` instead.\n",
      "  return MlflowClient().list_run_infos(\n",
      "[2022-10-19 21:09:26,746][serotiny.ml_ops.mlflow_utils][INFO] - Calling trainer.fit\n",
      "[2022-10-19 21:09:29,261][pytorch_lightning.accelerators.gpu][INFO] - LOCAL_RANK: 0 - CUDA_VISIBLE_DEVICES: [0]\n",
      "[2022-10-19 21:09:29,263][pytorch_lightning.callbacks.model_summary][INFO] - \n",
      "  | Name    | Type       | Params\n",
      "---------------------------------------\n",
      "0 | encoder | ModuleDict | 22.0 M\n",
      "1 | decoder | ModuleDict | 11.0 M\n",
      "2 | prior   | ModuleDict | 0     \n",
      "---------------------------------------\n",
      "33.0 M    Trainable params\n",
      "0         Non-trainable params\n",
      "33.0 M    Total params\n",
      "132.040   Total estimated model params size (MB)\n",
      "Epoch 0:  16%|██▊               | 18/116 [01:39<09:02,  5.53s/it, loss=5.95e+04]"
     ]
    }
   ],
   "source": [
    "run_name = f\"teamx_bfdna_zproj_{now_str()}\"\n",
    "print(run_name)\n",
    "\n",
    "!serotiny train \\\n",
    "    model=example_vae_2d \\\n",
    "    data=example_vae_dataloader_2d \\\n",
    "    mlflow.experiment_name=vae \\\n",
    "    mlflow.run_name={run_name} \\\n",
    "    trainer.gpus=[0] \\\n",
    "    trainer.max_epochs=2"
   ]
  },
  {
   "cell_type": "code",
   "execution_count": 9,
   "id": "bfdc4b7f-d3af-47b5-8a25-da0e7b642fdd",
   "metadata": {},
   "outputs": [
    {
     "name": "stdout",
     "output_type": "stream",
     "text": [
      "[2022-10-19 21:04:05,576][pytorch_lightning.utilities.seed][INFO] - Global seed set to 42\n",
      "[2022-10-19 21:04:05,577][serotiny.ml_ops.ml_ops][INFO] - Instantiating datamodule\n",
      "[2022-10-19 21:04:07,812][serotiny.ml_ops.ml_ops][INFO] - Instantiating trainer\n",
      "/opt/conda/lib/python3.10/site-packages/pytorch_lightning/loops/utilities.py:91: PossibleUserWarning: `max_epochs` was not set. Setting it to 1000 epochs. To train without an epoch limit, set `max_epochs=-1`.\n",
      "  rank_zero_warn(\n",
      "[2022-10-19 21:04:08,119][pytorch_lightning.utilities.rank_zero][INFO] - GPU available: True, used: False\n",
      "[2022-10-19 21:04:08,120][pytorch_lightning.utilities.rank_zero][INFO] - TPU available: False, using: 0 TPU cores\n",
      "[2022-10-19 21:04:08,120][pytorch_lightning.utilities.rank_zero][INFO] - IPU available: False, using: 0 IPUs\n",
      "[2022-10-19 21:04:08,120][pytorch_lightning.utilities.rank_zero][INFO] - HPU available: False, using: 0 HPUs\n",
      "/opt/conda/lib/python3.10/site-packages/pytorch_lightning/trainer/trainer.py:1812: PossibleUserWarning: GPU available but not used. Set `accelerator` and `devices` using `Trainer(accelerator='gpu', devices=1)`.\n",
      "  rank_zero_warn(\n",
      "[2022-10-19 21:04:08,121][serotiny.ml_ops.ml_ops][INFO] - Instantiating model\n",
      "/opt/conda/lib/python3.10/site-packages/torch/nn/modules/lazy.py:178: UserWarning: Lazy modules are a new feature under heavy development so changes to the API or functionality can happen at any moment.\n",
      "  warnings.warn('Lazy modules are a new feature under heavy development '\n",
      "[2022-10-19 21:04:08,170][torch.distributed.nn.jit.instantiator][INFO] - Created a temporary directory at /tmp/tmpasfwravb\n",
      "[2022-10-19 21:04:08,170][torch.distributed.nn.jit.instantiator][INFO] - Writing /tmp/tmpasfwravb/_remote_module_non_scriptable.py\n",
      "[2022-10-19 21:04:08,186][serotiny.ml_ops.mlflow_utils][INFO] - Validating and processing MLFlow configuration\n",
      "/opt/conda/lib/python3.10/site-packages/serotiny/ml_ops/mlflow_utils.py:156: FutureWarning: ``mlflow.tracking.fluent.list_run_infos`` is deprecated. This method will be removed in a future release. Use ``search_runs()`` instead.\n",
      "  for run_info in mlflow.list_run_infos(experiment_id=experiment_id):\n",
      "/opt/conda/lib/python3.10/site-packages/mlflow/tracking/fluent.py:1599: FutureWarning: ``mlflow.tracking.client.MlflowClient.list_run_infos`` is deprecated. This method will be removed in a future release. Use ``search_runs()`` instead.\n",
      "  return MlflowClient().list_run_infos(\n",
      "[2022-10-19 21:05:09,564][serotiny.ml_ops.mlflow_utils][INFO] - Calling trainer.test\n",
      "Testing DataLoader 0: 100%|███████████████████████| 4/4 [00:00<00:00,  9.99it/s][2022-10-19 21:05:36,951][cytodata_aics.vae_utils][INFO] - Getting embeddings for split: train\n",
      "Error executing job with overrides: ['model=example_classifier_2d', 'data=example_dataloader_2d', 'mlflow.experiment_name=vae', 'mlflow.run_name=teamx_bfdna_zproj_20221019_205035', 'trainer/callbacks=vae', '++force=True']\n",
      "Traceback (most recent call last):\n",
      "  File \"/opt/conda/bin/serotiny\", line 8, in <module>\n",
      "    sys.exit(main())\n",
      "  File \"/opt/conda/lib/python3.10/site-packages/serotiny/cli/cli.py\", line 58, in main\n",
      "    hydra.main(config_path=None, config_name=mode, version_base=None)(\n",
      "  File \"/opt/conda/lib/python3.10/site-packages/hydra/main.py\", line 90, in decorated_main\n",
      "    _run_hydra(\n",
      "  File \"/opt/conda/lib/python3.10/site-packages/hydra/_internal/utils.py\", line 389, in _run_hydra\n",
      "    _run_app(\n",
      "  File \"/opt/conda/lib/python3.10/site-packages/hydra/_internal/utils.py\", line 452, in _run_app\n",
      "    run_and_report(\n",
      "  File \"/opt/conda/lib/python3.10/site-packages/hydra/_internal/utils.py\", line 216, in run_and_report\n",
      "    raise ex\n",
      "  File \"/opt/conda/lib/python3.10/site-packages/hydra/_internal/utils.py\", line 213, in run_and_report\n",
      "    return func()\n",
      "  File \"/opt/conda/lib/python3.10/site-packages/hydra/_internal/utils.py\", line 453, in <lambda>\n",
      "    lambda: hydra.run(\n",
      "  File \"/opt/conda/lib/python3.10/site-packages/hydra/_internal/hydra.py\", line 132, in run\n",
      "    _ = ret.return_value\n",
      "  File \"/opt/conda/lib/python3.10/site-packages/hydra/core/utils.py\", line 260, in return_value\n",
      "    raise self._return_value\n",
      "  File \"/opt/conda/lib/python3.10/site-packages/hydra/core/utils.py\", line 186, in run_job\n",
      "    ret.return_value = task_function(task_cfg)\n",
      "  File \"/opt/conda/lib/python3.10/site-packages/serotiny/ml_ops/ml_ops.py\", line 143, in _do_model_op_wrapper\n",
      "    _do_model_op(\n",
      "  File \"/opt/conda/lib/python3.10/site-packages/serotiny/ml_ops/ml_ops.py\", line 99, in _do_model_op\n",
      "    mlflow_test(mlflow, trainer, data, full_conf=full_conf)\n",
      "  File \"/opt/conda/lib/python3.10/site-packages/serotiny/ml_ops/mlflow_utils.py\", line 355, in mlflow_test\n",
      "    trainer.test(model, data)\n",
      "  File \"/opt/conda/lib/python3.10/site-packages/mlflow/utils/autologging_utils/safety.py\", line 555, in safe_patch_function\n",
      "    patch_function(call_original, *args, **kwargs)\n",
      "  File \"/opt/conda/lib/python3.10/site-packages/mlflow/utils/autologging_utils/safety.py\", line 254, in patch_with_managed_run\n",
      "    result = patch_function(original, *args, **kwargs)\n",
      "  File \"/opt/conda/lib/python3.10/site-packages/mlflow/pytorch/_pytorch_autolog.py\", line 367, in patched_fit\n",
      "    result = original(self, *args, **kwargs)\n",
      "  File \"/opt/conda/lib/python3.10/site-packages/mlflow/utils/autologging_utils/safety.py\", line 536, in call_original\n",
      "    return call_original_fn_with_event_logging(_original_fn, og_args, og_kwargs)\n",
      "  File \"/opt/conda/lib/python3.10/site-packages/mlflow/utils/autologging_utils/safety.py\", line 471, in call_original_fn_with_event_logging\n",
      "    original_fn_result = original_fn(*og_args, **og_kwargs)\n",
      "  File \"/opt/conda/lib/python3.10/site-packages/mlflow/utils/autologging_utils/safety.py\", line 533, in _original_fn\n",
      "    original_result = original(*_og_args, **_og_kwargs)\n",
      "  File \"/opt/conda/lib/python3.10/site-packages/pytorch_lightning/trainer/trainer.py\", line 936, in test\n",
      "    return self._call_and_handle_interrupt(self._test_impl, model, dataloaders, ckpt_path, verbose, datamodule)\n",
      "  File \"/opt/conda/lib/python3.10/site-packages/pytorch_lightning/trainer/trainer.py\", line 721, in _call_and_handle_interrupt\n",
      "    return trainer_fn(*args, **kwargs)\n",
      "  File \"/opt/conda/lib/python3.10/site-packages/pytorch_lightning/trainer/trainer.py\", line 983, in _test_impl\n",
      "    results = self._run(model, ckpt_path=self.ckpt_path)\n",
      "  File \"/opt/conda/lib/python3.10/site-packages/pytorch_lightning/trainer/trainer.py\", line 1234, in _run\n",
      "    results = self._run_stage()\n",
      "  File \"/opt/conda/lib/python3.10/site-packages/pytorch_lightning/trainer/trainer.py\", line 1318, in _run_stage\n",
      "    return self._run_evaluate()\n",
      "  File \"/opt/conda/lib/python3.10/site-packages/pytorch_lightning/trainer/trainer.py\", line 1363, in _run_evaluate\n",
      "    eval_loop_results = self._evaluation_loop.run()\n",
      "  File \"/opt/conda/lib/python3.10/site-packages/pytorch_lightning/loops/base.py\", line 211, in run\n",
      "    output = self.on_run_end()\n",
      "  File \"/opt/conda/lib/python3.10/site-packages/pytorch_lightning/loops/dataloader/evaluation_loop.py\", line 192, in on_run_end\n",
      "    self._on_evaluation_epoch_end()\n",
      "  File \"/opt/conda/lib/python3.10/site-packages/pytorch_lightning/loops/dataloader/evaluation_loop.py\", line 315, in _on_evaluation_epoch_end\n",
      "    self.trainer._call_callback_hooks(hook_name)\n",
      "  File \"/opt/conda/lib/python3.10/site-packages/pytorch_lightning/trainer/trainer.py\", line 1634, in _call_callback_hooks\n",
      "    fn(self, self.lightning_module, *args, **kwargs)\n",
      "  File \"/home/aicsuser/cytodata-hackathon-base/cytodata_aics/vae_utils.py\", line 241, in on_test_epoch_end\n",
      "    embeddings = get_all_embeddings(\n",
      "  File \"/home/aicsuser/cytodata-hackathon-base/cytodata_aics/vae_utils.py\", line 283, in get_all_embeddings\n",
      "    _embeddings = np.zeros((_len, pl_module.latent_dim))\n",
      "  File \"/opt/conda/lib/python3.10/site-packages/torch/nn/modules/module.py\", line 1207, in __getattr__\n",
      "    raise AttributeError(\"'{}' object has no attribute '{}'\".format(\n",
      "AttributeError: 'BasicModel' object has no attribute 'latent_dim'\n",
      "Testing DataLoader 0: 100%|██████████| 4/4 [00:00<00:00,  4.79it/s]             \n"
     ]
    }
   ],
   "source": [
    "!serotiny test \\\n",
    "    model=example_vae_2d \\\n",
    "    data=example_vae_dataloader_2d \\\n",
    "    mlflow.experiment_name=vae \\\n",
    "    mlflow.run_name={run_name} \\\n",
    "    trainer/callbacks=vae \\\n",
    "    ++force=True"
   ]
  }
 ],
 "metadata": {
  "kernelspec": {
   "display_name": "Python 3 (ipykernel)",
   "language": "python",
   "name": "python3"
  },
  "language_info": {
   "codemirror_mode": {
    "name": "ipython",
    "version": 3
   },
   "file_extension": ".py",
   "mimetype": "text/x-python",
   "name": "python",
   "nbconvert_exporter": "python",
   "pygments_lexer": "ipython3",
   "version": "3.10.6"
  }
 },
 "nbformat": 4,
 "nbformat_minor": 5
}
