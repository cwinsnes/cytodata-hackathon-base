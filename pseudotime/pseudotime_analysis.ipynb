{
 "cells": [
  {
   "cell_type": "code",
   "execution_count": 1,
   "id": "64e4b337-1db2-40af-a22a-cdeba7e9a59f",
   "metadata": {},
   "outputs": [
    {
     "name": "stdout",
     "output_type": "stream",
     "text": [
      "Requirement already satisfied: scanpy in /opt/conda/lib/python3.10/site-packages (1.9.1)\n",
      "Requirement already satisfied: scipy>=1.4 in /opt/conda/lib/python3.10/site-packages (from scanpy) (1.9.1)\n",
      "Requirement already satisfied: scikit-learn>=0.22 in /opt/conda/lib/python3.10/site-packages (from scanpy) (1.1.2)\n",
      "Requirement already satisfied: tqdm in /opt/conda/lib/python3.10/site-packages (from scanpy) (4.64.1)\n",
      "Requirement already satisfied: networkx>=2.3 in /opt/conda/lib/python3.10/site-packages (from scanpy) (2.8.7)\n",
      "Requirement already satisfied: h5py>=3 in /opt/conda/lib/python3.10/site-packages (from scanpy) (3.7.0)\n",
      "Requirement already satisfied: numpy>=1.17.0 in /opt/conda/lib/python3.10/site-packages (from scanpy) (1.23.4)\n",
      "Requirement already satisfied: anndata>=0.7.4 in /opt/conda/lib/python3.10/site-packages (from scanpy) (0.8.0)\n",
      "Requirement already satisfied: patsy in /opt/conda/lib/python3.10/site-packages (from scanpy) (0.5.3)\n",
      "Requirement already satisfied: joblib in /opt/conda/lib/python3.10/site-packages (from scanpy) (1.2.0)\n",
      "Requirement already satisfied: packaging in /opt/conda/lib/python3.10/site-packages (from scanpy) (20.9)\n",
      "Requirement already satisfied: natsort in /opt/conda/lib/python3.10/site-packages (from scanpy) (8.2.0)\n",
      "Requirement already satisfied: session-info in /opt/conda/lib/python3.10/site-packages (from scanpy) (1.0.0)\n",
      "Requirement already satisfied: matplotlib>=3.4 in /opt/conda/lib/python3.10/site-packages (from scanpy) (3.6.1)\n",
      "Requirement already satisfied: numba>=0.41.0 in /opt/conda/lib/python3.10/site-packages (from scanpy) (0.56.3)\n",
      "Requirement already satisfied: umap-learn>=0.3.10 in /opt/conda/lib/python3.10/site-packages (from scanpy) (0.5.3)\n",
      "Requirement already satisfied: pandas>=1.0 in /opt/conda/lib/python3.10/site-packages (from scanpy) (1.5.0)\n",
      "Requirement already satisfied: seaborn in /opt/conda/lib/python3.10/site-packages (from scanpy) (0.12.0)\n",
      "Requirement already satisfied: statsmodels>=0.10.0rc2 in /opt/conda/lib/python3.10/site-packages (from scanpy) (0.13.1)\n",
      "Requirement already satisfied: pyparsing>=2.2.1 in /opt/conda/lib/python3.10/site-packages (from matplotlib>=3.4->scanpy) (3.0.9)\n",
      "Requirement already satisfied: python-dateutil>=2.7 in /opt/conda/lib/python3.10/site-packages (from matplotlib>=3.4->scanpy) (2.8.2)\n",
      "Requirement already satisfied: fonttools>=4.22.0 in /opt/conda/lib/python3.10/site-packages (from matplotlib>=3.4->scanpy) (4.37.4)\n",
      "Requirement already satisfied: contourpy>=1.0.1 in /opt/conda/lib/python3.10/site-packages (from matplotlib>=3.4->scanpy) (1.0.5)\n",
      "Requirement already satisfied: pillow>=6.2.0 in /opt/conda/lib/python3.10/site-packages (from matplotlib>=3.4->scanpy) (8.4.0)\n",
      "Requirement already satisfied: kiwisolver>=1.0.1 in /opt/conda/lib/python3.10/site-packages (from matplotlib>=3.4->scanpy) (1.4.4)\n",
      "Requirement already satisfied: cycler>=0.10 in /opt/conda/lib/python3.10/site-packages (from matplotlib>=3.4->scanpy) (0.11.0)\n",
      "Requirement already satisfied: llvmlite<0.40,>=0.39.0dev0 in /opt/conda/lib/python3.10/site-packages (from numba>=0.41.0->scanpy) (0.39.1)\n",
      "Requirement already satisfied: setuptools in /opt/conda/lib/python3.10/site-packages (from numba>=0.41.0->scanpy) (65.5.0)\n",
      "Requirement already satisfied: pytz>=2020.1 in /opt/conda/lib/python3.10/site-packages (from pandas>=1.0->scanpy) (2022.4)\n",
      "Requirement already satisfied: threadpoolctl>=2.0.0 in /opt/conda/lib/python3.10/site-packages (from scikit-learn>=0.22->scanpy) (3.1.0)\n",
      "Requirement already satisfied: six in /opt/conda/lib/python3.10/site-packages (from patsy->scanpy) (1.16.0)\n",
      "Requirement already satisfied: pynndescent>=0.5 in /opt/conda/lib/python3.10/site-packages (from umap-learn>=0.3.10->scanpy) (0.5.7)\n",
      "Requirement already satisfied: stdlib-list in /opt/conda/lib/python3.10/site-packages (from session-info->scanpy) (0.8.0)\n"
     ]
    }
   ],
   "source": [
    "!pip install scanpy"
   ]
  },
  {
   "cell_type": "code",
   "execution_count": 2,
   "id": "08da4eb2-73e1-4fa8-929e-47a2cf192b08",
   "metadata": {},
   "outputs": [],
   "source": [
    "import scanpy as sc\n",
    "import pandas as pd\n",
    "import matplotlib.pyplot as plt"
   ]
  },
  {
   "cell_type": "markdown",
   "id": "d8857794-f9e4-4b1e-87eb-e10de2af88e4",
   "metadata": {},
   "source": [
    "To do:\n",
    "- import data\n",
    "- subset features\n",
    "- calculate neighbors\n",
    "- UMAP\n",
    "- pseudotime"
   ]
  },
  {
   "cell_type": "code",
   "execution_count": null,
   "id": "a2cc537a-1dc7-49d8-bc5a-08c9ee7db1ac",
   "metadata": {},
   "outputs": [],
   "source": [
    "# Load data"
   ]
  },
  {
   "cell_type": "code",
   "execution_count": null,
   "id": "6eceebdd-f0bd-4f35-aab0-6bf3f1e91660",
   "metadata": {},
   "outputs": [],
   "source": [
    "# Convert data to AnnData"
   ]
  },
  {
   "cell_type": "code",
   "execution_count": null,
   "id": "c4ead39a-b29f-474e-b433-7565f5575ee2",
   "metadata": {},
   "outputs": [],
   "source": [
    "# Subset to relevant features"
   ]
  },
  {
   "cell_type": "code",
   "execution_count": null,
   "id": "add988bb-abcc-4488-ad43-9341af0dc38d",
   "metadata": {},
   "outputs": [],
   "source": [
    "# Calculate neighborhood graph"
   ]
  }
 ],
 "metadata": {
  "kernelspec": {
   "display_name": "Python 3 (ipykernel)",
   "language": "python",
   "name": "python3"
  },
  "language_info": {
   "codemirror_mode": {
    "name": "ipython",
    "version": 3
   },
   "file_extension": ".py",
   "mimetype": "text/x-python",
   "name": "python",
   "nbconvert_exporter": "python",
   "pygments_lexer": "ipython3",
   "version": "3.10.6"
  }
 },
 "nbformat": 4,
 "nbformat_minor": 5
}
